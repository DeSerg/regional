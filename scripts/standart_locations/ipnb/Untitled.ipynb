{
 "cells": [
  {
   "cell_type": "markdown",
   "metadata": {},
   "source": [
    "## PostgreSQL helpers"
   ]
  },
  {
   "cell_type": "code",
   "execution_count": 1,
   "metadata": {
    "collapsed": true
   },
   "outputs": [],
   "source": [
    "import psycopg2\n",
    "conn = psycopg2.connect(\"dbname=geonames user=deserg\")\n",
    "\n",
    "cursor = conn.cursor()"
   ]
  },
  {
   "cell_type": "code",
   "execution_count": 4,
   "metadata": {
    "collapsed": false
   },
   "outputs": [],
   "source": [
    "Levels = ['cn', 'rn', 'ppl']\n",
    "CityLevel = 2\n",
    "RegionLevel = 1\n",
    "CountryLevel = 0\n",
    "\n",
    "find_precisely_command = \"\"\"select *, b.name from geo_{0} a inner join geo_{0}_names b\n",
    "    on a.geonameid = b.geonameid\n",
    "    where b.lower_name = '{1}';\"\"\"\n",
    "\n",
    "find_with_errs_command = \"\"\"select *, b.lower_name <-> '{1}' AS dist\n",
    "    from geo_{0} a\n",
    "    inner join geo_{0}_names b\n",
    "    on a.geonameid = b.geonameid\n",
    "    order by dist\n",
    "    limit 10;\"\"\"\n",
    "\n",
    "find_names_command = \"\"\"select name from geo_{0}_names where geonameid = '{1}';\"\"\"\n",
    "\n",
    "find_id_precisely_command = \"\"\"select * from geo_{0} where geonameid = {1};\"\"\"\n",
    "\n",
    "# Place: 'geonameid', 'name', 'class', 'code', 'country', 'region'\n",
    "def place_from_record(record):\n",
    "    place = {}\n",
    "    place['geonameid'] = record[0]\n",
    "    place['name'] = record[8]\n",
    "    place['class'] = record[1]\n",
    "    place['code'] = record[2]\n",
    "    place['country'] = record[3]\n",
    "    place['region'] = record[4]\n",
    "    place['pop'] = record[5]\n",
    "    return place\n",
    "\n",
    "def find_ids_precisely(geonameid, level_ind):\n",
    "    if level_ind < 0 or level_ind >= len(Levels):\n",
    "        print('bad ind')\n",
    "        return []\n",
    "    try:\n",
    "        cursor.execute(find_id_precisely_command.format(Levels[level_ind], geonameid))\n",
    "    except Exception as ex:\n",
    "        print(ex)\n",
    "        self.conn.rollback()\n",
    "        return []\n",
    "    conn.commit()\n",
    "    tup = self.cursor.fetchone()\n",
    "    if tup:\n",
    "        return tup\n",
    "    else:\n",
    "        return ()\n",
    "\n",
    "def find_records_precisely(location, level_ind):\n",
    "    if level_ind < 0 or level_ind >= len(Levels):\n",
    "        return []\n",
    "    cursor.execute(find_precisely_command.format(Levels[level_ind], location))\n",
    "    list_tup = cursor.fetchall()\n",
    "    results = []\n",
    "    for tup in list_tup:\n",
    "        results.append(place_from_record(tup))\n",
    "    return results\n",
    "\n",
    "def find_records_with_errs(location, level_ind):\n",
    "    if level_ind < 0 or level_ind >= len(Levels):\n",
    "        return []\n",
    "    cursor.execute(find_with_errs_command.format(Levels[level_ind], location))\n",
    "    list_tup = cursor.fetchall()\n",
    "    results = []\n",
    "    for tup in list_tup:\n",
    "        results.append(place_from_record(tup))\n",
    "    return results\n",
    "\n",
    "def find_names(geonameid, level_ind):\n",
    "    if level_ind < 0 or level_ind >= len(levels):\n",
    "        return []\n",
    "    cursor.execute(find_names_command.format(levels[level_ind], geonameid))\n",
    "    list_tup = cursor.fetchall()\n",
    "    results = []\n",
    "    for tup in list_tup:\n",
    "        results.append(tup[0])\n",
    "    return results"
   ]
  },
  {
   "cell_type": "code",
   "execution_count": 10,
   "metadata": {
    "collapsed": false,
    "scrolled": false
   },
   "outputs": [
    {
     "name": "stdout",
     "output_type": "stream",
     "text": [
      "None\n"
     ]
    }
   ],
   "source": [
    "find_records_with_errs('saint petersburg', 2)\n",
    "\n",
    "#cursor.execute(find_with_errs_command.format(levels[CityLevel], 'Sao Paulo'))\n",
    "print(cursor.fetchone())\n",
    "#cursor.execute(find_id_precisely_command.format(Levels[1], '4829764'))"
   ]
  },
  {
   "cell_type": "code",
   "execution_count": null,
   "metadata": {
    "collapsed": true
   },
   "outputs": [],
   "source": [
    ""
   ]
  },
  {
   "cell_type": "code",
   "execution_count": 174,
   "metadata": {
    "collapsed": false
   },
   "outputs": [
    {
     "data": {
      "text/plain": [
       "[{'class': 'P',\n",
       "  'code': 'PPLC',\n",
       "  'country': 'RU',\n",
       "  'geonameid': 524901,\n",
       "  'name': 'Mosco',\n",
       "  'region': '48'},\n",
       " {'class': 'P',\n",
       "  'code': 'PPL',\n",
       "  'country': 'US',\n",
       "  'geonameid': 4092267,\n",
       "  'name': 'Moscow',\n",
       "  'region': 'AL'},\n",
       " {'class': 'P',\n",
       "  'code': 'PPL',\n",
       "  'country': 'US',\n",
       "  'geonameid': 4393217,\n",
       "  'name': 'Moscow',\n",
       "  'region': 'MO'},\n",
       " {'class': 'P',\n",
       "  'code': 'PPLC',\n",
       "  'country': 'RU',\n",
       "  'geonameid': 524901,\n",
       "  'name': 'Moscoƿ',\n",
       "  'region': '48'},\n",
       " {'class': 'P',\n",
       "  'code': 'PPL',\n",
       "  'country': 'US',\n",
       "  'geonameid': 4399153,\n",
       "  'name': 'Moscow',\n",
       "  'region': 'MO'},\n",
       " {'class': 'P',\n",
       "  'code': 'PPLC',\n",
       "  'country': 'RU',\n",
       "  'geonameid': 524901,\n",
       "  'name': 'Moscou',\n",
       "  'region': '48'},\n",
       " {'class': 'P',\n",
       "  'code': 'PPLC',\n",
       "  'country': 'RU',\n",
       "  'geonameid': 524901,\n",
       "  'name': 'Moscow',\n",
       "  'region': '48'},\n",
       " {'class': 'P',\n",
       "  'code': 'PPLA2',\n",
       "  'country': 'US',\n",
       "  'geonameid': 5601538,\n",
       "  'name': 'Moscow',\n",
       "  'region': 'ID'},\n",
       " {'class': 'P',\n",
       "  'code': 'PPL',\n",
       "  'country': 'US',\n",
       "  'geonameid': 5202009,\n",
       "  'name': 'Moscow',\n",
       "  'region': 'PA'},\n",
       " {'class': 'P',\n",
       "  'code': 'PPLC',\n",
       "  'country': 'RU',\n",
       "  'geonameid': 524901,\n",
       "  'name': 'Moscovo',\n",
       "  'region': '48'}]"
      ]
     },
     "execution_count": 174,
     "metadata": {},
     "output_type": "execute_result"
    }
   ],
   "source": [
    "with open('')"
   ]
  },
  {
   "cell_type": "markdown",
   "metadata": {},
   "source": [
    "## User locations"
   ]
  },
  {
   "cell_type": "code",
   "execution_count": 182,
   "metadata": {
    "collapsed": false,
    "scrolled": true
   },
   "outputs": [
    {
     "data": {
      "text/html": [
       "<div>\n",
       "<table border=\"1\" class=\"dataframe\">\n",
       "  <thead>\n",
       "    <tr style=\"text-align: right;\">\n",
       "      <th></th>\n",
       "      <th>author_name</th>\n",
       "      <th>place_num</th>\n",
       "      <th>place</th>\n",
       "      <th>region</th>\n",
       "      <th>country</th>\n",
       "      <th>Unnamed: 5</th>\n",
       "    </tr>\n",
       "  </thead>\n",
       "  <tbody>\n",
       "    <tr>\n",
       "      <th>0</th>\n",
       "      <td>KenigsberginMoscow</td>\n",
       "      <td>1</td>\n",
       "      <td>Московская область</td>\n",
       "      <td>NaN</td>\n",
       "      <td>NaN</td>\n",
       "      <td>NaN</td>\n",
       "    </tr>\n",
       "    <tr>\n",
       "      <th>1</th>\n",
       "      <td>Куйбышев-курортнаводах_Москва</td>\n",
       "      <td>1</td>\n",
       "      <td>Москва</td>\n",
       "      <td>NaN</td>\n",
       "      <td>NaN</td>\n",
       "      <td>NaN</td>\n",
       "    </tr>\n",
       "    <tr>\n",
       "      <th>2</th>\n",
       "      <td>Balkan</td>\n",
       "      <td>1</td>\n",
       "      <td>NaN</td>\n",
       "      <td>NaN</td>\n",
       "      <td>NaN</td>\n",
       "      <td>NaN</td>\n",
       "    </tr>\n",
       "  </tbody>\n",
       "</table>\n",
       "</div>"
      ],
      "text/plain": [
       "                     author_name  place_num               place region  \\\n",
       "0             KenigsberginMoscow          1  Московская область    NaN   \n",
       "1  Куйбышев-курортнаводах_Москва          1              Москва    NaN   \n",
       "2                         Balkan          1                 NaN    NaN   \n",
       "\n",
       "   country  Unnamed: 5  \n",
       "0      NaN         NaN  \n",
       "1      NaN         NaN  \n",
       "2      NaN         NaN  "
      ]
     },
     "execution_count": 182,
     "metadata": {},
     "output_type": "execute_result"
    }
   ],
   "source": [
    "df = pd.read_csv('geo/toponims-utf8.txt', '\\t')#[['author_name', 'place', 'region']]\n",
    "df[:3]"
   ]
  },
  {
   "cell_type": "code",
   "execution_count": 185,
   "metadata": {
    "collapsed": false
   },
   "outputs": [
    {
     "data": {
      "text/plain": [
       "author_name    object\n",
       "place_num      object\n",
       "place          object\n",
       "region         object\n",
       "country        object\n",
       "Unnamed: 5     object\n",
       "dtype: object"
      ]
     },
     "execution_count": 185,
     "metadata": {},
     "output_type": "execute_result"
    }
   ],
   "source": [
    "df.dtypes\n",
    "failed = pd.DataFrame(columns = df.columns)\n",
    "failed.dtypes"
   ]
  },
  {
   "cell_type": "code",
   "execution_count": 179,
   "metadata": {
    "collapsed": false
   },
   "outputs": [
    {
     "ename": "InternalError",
     "evalue": "current transaction is aborted, commands ignored until end of transaction block\n",
     "traceback": [
      "\u001b[0;31m---------------------------------------------------------------------------\u001b[0m",
      "\u001b[0;31mInternalError\u001b[0m                             Traceback (most recent call last)",
      "\u001b[0;32m<ipython-input-179-35f419210ef6>\u001b[0m in \u001b[0;36m<module>\u001b[0;34m()\u001b[0m\n\u001b[1;32m      7\u001b[0m     \u001b[0mregion\u001b[0m \u001b[0;34m=\u001b[0m \u001b[0mrecord\u001b[0m\u001b[0;34m[\u001b[0m\u001b[0;34m[\u001b[0m\u001b[0;34m'region'\u001b[0m\u001b[0;34m]\u001b[0m\u001b[0;34m]\u001b[0m\u001b[0;34m\u001b[0m\u001b[0m\n\u001b[1;32m      8\u001b[0m \u001b[0;34m\u001b[0m\u001b[0m\n\u001b[0;32m----> 9\u001b[0;31m     \u001b[0mcities_from_pl\u001b[0m \u001b[0;34m=\u001b[0m \u001b[0mfind_records_precisely\u001b[0m\u001b[0;34m(\u001b[0m\u001b[0mplace\u001b[0m\u001b[0;34m,\u001b[0m \u001b[0mCityLevel\u001b[0m\u001b[0;34m)\u001b[0m\u001b[0;34m\u001b[0m\u001b[0m\n\u001b[0m\u001b[1;32m     10\u001b[0m     \u001b[0;32mif\u001b[0m \u001b[0mcities_from_pl\u001b[0m\u001b[0;34m:\u001b[0m\u001b[0;34m\u001b[0m\u001b[0m\n\u001b[1;32m     11\u001b[0m         \u001b[0mcity_\u001b[0m \u001b[0;34m=\u001b[0m \u001b[0mcities_from_pl\u001b[0m\u001b[0;34m[\u001b[0m\u001b[0;36m0\u001b[0m\u001b[0;34m]\u001b[0m\u001b[0;34m\u001b[0m\u001b[0m\n",
      "\u001b[0;32m<ipython-input-178-a4d9fba0af1e>\u001b[0m in \u001b[0;36mfind_records_precisely\u001b[0;34m(location, level_ind)\u001b[0m\n\u001b[1;32m     34\u001b[0m     \u001b[0;32mif\u001b[0m \u001b[0mlevel_ind\u001b[0m \u001b[0;34m<\u001b[0m \u001b[0;36m0\u001b[0m \u001b[0;32mor\u001b[0m \u001b[0mlevel_ind\u001b[0m \u001b[0;34m>=\u001b[0m \u001b[0mlen\u001b[0m\u001b[0;34m(\u001b[0m\u001b[0mlevels\u001b[0m\u001b[0;34m)\u001b[0m\u001b[0;34m:\u001b[0m\u001b[0;34m\u001b[0m\u001b[0m\n\u001b[1;32m     35\u001b[0m         \u001b[0;32mreturn\u001b[0m \u001b[0;34m[\u001b[0m\u001b[0;34m]\u001b[0m\u001b[0;34m\u001b[0m\u001b[0m\n\u001b[0;32m---> 36\u001b[0;31m     \u001b[0mcursor\u001b[0m\u001b[0;34m.\u001b[0m\u001b[0mexecute\u001b[0m\u001b[0;34m(\u001b[0m\u001b[0mfind_precisely_command\u001b[0m\u001b[0;34m.\u001b[0m\u001b[0mformat\u001b[0m\u001b[0;34m(\u001b[0m\u001b[0mlevels\u001b[0m\u001b[0;34m[\u001b[0m\u001b[0mlevel_ind\u001b[0m\u001b[0;34m]\u001b[0m\u001b[0;34m,\u001b[0m \u001b[0mlocation\u001b[0m\u001b[0;34m)\u001b[0m\u001b[0;34m)\u001b[0m\u001b[0;34m\u001b[0m\u001b[0m\n\u001b[0m\u001b[1;32m     37\u001b[0m     \u001b[0mlist_tup\u001b[0m \u001b[0;34m=\u001b[0m \u001b[0mcursor\u001b[0m\u001b[0;34m.\u001b[0m\u001b[0mfetchall\u001b[0m\u001b[0;34m(\u001b[0m\u001b[0;34m)\u001b[0m\u001b[0;34m\u001b[0m\u001b[0m\n\u001b[1;32m     38\u001b[0m     \u001b[0mresults\u001b[0m \u001b[0;34m=\u001b[0m \u001b[0;34m[\u001b[0m\u001b[0;34m]\u001b[0m\u001b[0;34m\u001b[0m\u001b[0m\n",
      "\u001b[0;31mInternalError\u001b[0m: current transaction is aborted, commands ignored until end of transaction block\n"
     ],
     "output_type": "error"
    }
   ],
   "source": [
    "toponims = pd.DataFrame(columns=['author_name', 'geonameid', 'level_ind'])\n",
    "failed_toponims = pd.DataFrame()\n",
    "\n",
    "for _, record in df.iterrows():\n",
    "    author_place = record[['author_name']]\n",
    "    place = record[['place']]\n",
    "    region = record[['region']]\n",
    "    \n",
    "    cities_from_pl = find_records_precisely(place, CityLevel)\n",
    "    if cities_from_pl:\n",
    "        \n",
    "        city_ = cities_from_pl[0]\n",
    "        toponims.insert(author_place, city_['geonameid'], CityLevel)\n",
    "        continue\n",
    "    \n",
    "    \n",
    "    \n",
    "    regions_from_pl = find_records_precisely(place, RegionLevel)\n",
    "    if regions_from_pl:\n",
    "        region_ = regions_from_pl[0]\n",
    "        toponims.insert(author_place, region_['geonameid'], RegionLevel)\n",
    "        continue\n",
    "\n",
    "    regions_from_rg = find_records_precisely(region, RegionLevel)\n",
    "    if regions_from_rg:\n",
    "        region_ = regions_from_rg[0]\n",
    "        toponims.insert(author_place, region_['geonameid'], RegionLevel)\n",
    "        continue\n",
    "    \n",
    "    country_from_rg = find_records_precisely(region, CountryLevel)\n",
    "    if country_from_rg:\n",
    "        country_ = country_from_rg[0]\n",
    "        toponims.insert(author_place, country_['geonameid'], CountryLevel)\n",
    "        continue\n",
    "    \n",
    "    print('failed with', author_place)\n",
    "    failed_toponims.insert(record)"
   ]
  },
  {
   "cell_type": "code",
   "execution_count": 202,
   "metadata": {
    "collapsed": false
   },
   "outputs": [
    {
     "ename": "SyntaxError",
     "evalue": "unexpected EOF while parsing (<ipython-input-202-8d9e3b10e416>, line 6)",
     "traceback": [
      "\u001b[0;36m  File \u001b[0;32m\"<ipython-input-202-8d9e3b10e416>\"\u001b[0;36m, line \u001b[0;32m6\u001b[0m\n\u001b[0;31m    \u001b[0m\n\u001b[0m    ^\u001b[0m\n\u001b[0;31mSyntaxError\u001b[0m\u001b[0;31m:\u001b[0m unexpected EOF while parsing\n"
     ],
     "output_type": "error"
    }
   ],
   "source": [
    "failed = 'user_locs/failed'\n",
    "\n",
    "toponims = set()\n",
    "with open(failed) as inp:\n",
    "    for line in inp:"
   ]
  },
  {
   "cell_type": "code",
   "execution_count": null,
   "metadata": {
    "collapsed": true
   },
   "outputs": [],
   "source": [
    "pd.read_csv()"
   ]
  }
 ],
 "metadata": {
  "anaconda-cloud": {},
  "kernelspec": {
   "display_name": "Python 3",
   "language": "python",
   "name": "myenv"
  },
  "language_info": {
   "codemirror_mode": {
    "name": "ipython",
    "version": 3.0
   },
   "file_extension": ".py",
   "mimetype": "text/x-python",
   "name": "python",
   "nbconvert_exporter": "python",
   "pygments_lexer": "ipython3",
   "version": "3.5.2"
  }
 },
 "nbformat": 4,
 "nbformat_minor": 0
}